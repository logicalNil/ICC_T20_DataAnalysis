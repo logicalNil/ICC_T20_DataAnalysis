{
 "cells": [
  {
   "cell_type": "markdown",
   "id": "5bc95a08",
   "metadata": {},
   "source": [
    "<h1 align=\"center\"> T20 World Cup Data Pre Processing </h1>"
   ]
  },
  {
   "cell_type": "code",
   "execution_count": 1,
   "id": "4de3844a",
   "metadata": {
    "ExecuteTime": {
     "end_time": "2023-12-30T15:22:41.648783400Z",
     "start_time": "2023-12-30T15:22:41.031852700Z"
    }
   },
   "outputs": [],
   "source": [
    "#import necessary libraries\n",
    "import pandas as pd\n",
    "import json"
   ]
  },
  {
   "cell_type": "markdown",
   "source": [],
   "metadata": {
    "collapsed": false
   },
   "id": "cb6e0905aae60d6c"
  },
  {
   "cell_type": "markdown",
   "id": "c64f424a",
   "metadata": {},
   "source": [
    "<h4 style=\"color:red\">(1) Process Match Results</h4>"
   ]
  },
  {
   "cell_type": "code",
   "execution_count": 4,
   "id": "cae9c35a",
   "metadata": {
    "ExecuteTime": {
     "end_time": "2023-12-30T15:22:59.614534300Z",
     "start_time": "2023-12-30T15:22:59.547206700Z"
    }
   },
   "outputs": [
    {
     "data": {
      "text/plain": "         team1        team2       winner     margin   ground     matchDate  \\\n0      Namibia    Sri Lanka      Namibia    55 runs  Geelong  Oct 16, 2022   \n1  Netherlands       U.A.E.  Netherlands  3 wickets  Geelong  Oct 16, 2022   \n2     Scotland  West Indies     Scotland    42 runs   Hobart  Oct 17, 2022   \n3      Ireland     Zimbabwe     Zimbabwe    31 runs   Hobart  Oct 17, 2022   \n4      Namibia  Netherlands  Netherlands  5 wickets  Geelong  Oct 18, 2022   \n\n     scorecard  \n0  T20I # 1823  \n1  T20I # 1825  \n2  T20I # 1826  \n3  T20I # 1828  \n4  T20I # 1830  ",
      "text/html": "<div>\n<style scoped>\n    .dataframe tbody tr th:only-of-type {\n        vertical-align: middle;\n    }\n\n    .dataframe tbody tr th {\n        vertical-align: top;\n    }\n\n    .dataframe thead th {\n        text-align: right;\n    }\n</style>\n<table border=\"1\" class=\"dataframe\">\n  <thead>\n    <tr style=\"text-align: right;\">\n      <th></th>\n      <th>team1</th>\n      <th>team2</th>\n      <th>winner</th>\n      <th>margin</th>\n      <th>ground</th>\n      <th>matchDate</th>\n      <th>scorecard</th>\n    </tr>\n  </thead>\n  <tbody>\n    <tr>\n      <th>0</th>\n      <td>Namibia</td>\n      <td>Sri Lanka</td>\n      <td>Namibia</td>\n      <td>55 runs</td>\n      <td>Geelong</td>\n      <td>Oct 16, 2022</td>\n      <td>T20I # 1823</td>\n    </tr>\n    <tr>\n      <th>1</th>\n      <td>Netherlands</td>\n      <td>U.A.E.</td>\n      <td>Netherlands</td>\n      <td>3 wickets</td>\n      <td>Geelong</td>\n      <td>Oct 16, 2022</td>\n      <td>T20I # 1825</td>\n    </tr>\n    <tr>\n      <th>2</th>\n      <td>Scotland</td>\n      <td>West Indies</td>\n      <td>Scotland</td>\n      <td>42 runs</td>\n      <td>Hobart</td>\n      <td>Oct 17, 2022</td>\n      <td>T20I # 1826</td>\n    </tr>\n    <tr>\n      <th>3</th>\n      <td>Ireland</td>\n      <td>Zimbabwe</td>\n      <td>Zimbabwe</td>\n      <td>31 runs</td>\n      <td>Hobart</td>\n      <td>Oct 17, 2022</td>\n      <td>T20I # 1828</td>\n    </tr>\n    <tr>\n      <th>4</th>\n      <td>Namibia</td>\n      <td>Netherlands</td>\n      <td>Netherlands</td>\n      <td>5 wickets</td>\n      <td>Geelong</td>\n      <td>Oct 18, 2022</td>\n      <td>T20I # 1830</td>\n    </tr>\n  </tbody>\n</table>\n</div>"
     },
     "execution_count": 4,
     "metadata": {},
     "output_type": "execute_result"
    }
   ],
   "source": [
    "with open('t20_json_files/t20_wc_match_results.json') as f:\n",
    "    data = json.load(f)\n",
    "\n",
    "df_match = pd.DataFrame(data[0]['matchSummary'])\n",
    "df_match.head()"
   ]
  },
  {
   "cell_type": "code",
   "execution_count": 5,
   "id": "691f36ec",
   "metadata": {
    "scrolled": true,
    "ExecuteTime": {
     "end_time": "2023-12-30T15:23:00.737849300Z",
     "start_time": "2023-12-30T15:23:00.731364500Z"
    }
   },
   "outputs": [
    {
     "data": {
      "text/plain": "(45, 7)"
     },
     "execution_count": 5,
     "metadata": {},
     "output_type": "execute_result"
    }
   ],
   "source": [
    "df_match.shape"
   ]
  },
  {
   "cell_type": "markdown",
   "id": "3b865576",
   "metadata": {},
   "source": [
    "**Use scorecard as a match id to link with other tables**"
   ]
  },
  {
   "cell_type": "code",
   "execution_count": 6,
   "id": "1f2c4e9e",
   "metadata": {
    "scrolled": true,
    "ExecuteTime": {
     "end_time": "2023-12-30T15:23:02.034129500Z",
     "start_time": "2023-12-30T15:23:02.017696600Z"
    }
   },
   "outputs": [
    {
     "data": {
      "text/plain": "         team1        team2       winner     margin   ground     matchDate  \\\n0      Namibia    Sri Lanka      Namibia    55 runs  Geelong  Oct 16, 2022   \n1  Netherlands       U.A.E.  Netherlands  3 wickets  Geelong  Oct 16, 2022   \n2     Scotland  West Indies     Scotland    42 runs   Hobart  Oct 17, 2022   \n3      Ireland     Zimbabwe     Zimbabwe    31 runs   Hobart  Oct 17, 2022   \n4      Namibia  Netherlands  Netherlands  5 wickets  Geelong  Oct 18, 2022   \n\n      match_id  \n0  T20I # 1823  \n1  T20I # 1825  \n2  T20I # 1826  \n3  T20I # 1828  \n4  T20I # 1830  ",
      "text/html": "<div>\n<style scoped>\n    .dataframe tbody tr th:only-of-type {\n        vertical-align: middle;\n    }\n\n    .dataframe tbody tr th {\n        vertical-align: top;\n    }\n\n    .dataframe thead th {\n        text-align: right;\n    }\n</style>\n<table border=\"1\" class=\"dataframe\">\n  <thead>\n    <tr style=\"text-align: right;\">\n      <th></th>\n      <th>team1</th>\n      <th>team2</th>\n      <th>winner</th>\n      <th>margin</th>\n      <th>ground</th>\n      <th>matchDate</th>\n      <th>match_id</th>\n    </tr>\n  </thead>\n  <tbody>\n    <tr>\n      <th>0</th>\n      <td>Namibia</td>\n      <td>Sri Lanka</td>\n      <td>Namibia</td>\n      <td>55 runs</td>\n      <td>Geelong</td>\n      <td>Oct 16, 2022</td>\n      <td>T20I # 1823</td>\n    </tr>\n    <tr>\n      <th>1</th>\n      <td>Netherlands</td>\n      <td>U.A.E.</td>\n      <td>Netherlands</td>\n      <td>3 wickets</td>\n      <td>Geelong</td>\n      <td>Oct 16, 2022</td>\n      <td>T20I # 1825</td>\n    </tr>\n    <tr>\n      <th>2</th>\n      <td>Scotland</td>\n      <td>West Indies</td>\n      <td>Scotland</td>\n      <td>42 runs</td>\n      <td>Hobart</td>\n      <td>Oct 17, 2022</td>\n      <td>T20I # 1826</td>\n    </tr>\n    <tr>\n      <th>3</th>\n      <td>Ireland</td>\n      <td>Zimbabwe</td>\n      <td>Zimbabwe</td>\n      <td>31 runs</td>\n      <td>Hobart</td>\n      <td>Oct 17, 2022</td>\n      <td>T20I # 1828</td>\n    </tr>\n    <tr>\n      <th>4</th>\n      <td>Namibia</td>\n      <td>Netherlands</td>\n      <td>Netherlands</td>\n      <td>5 wickets</td>\n      <td>Geelong</td>\n      <td>Oct 18, 2022</td>\n      <td>T20I # 1830</td>\n    </tr>\n  </tbody>\n</table>\n</div>"
     },
     "execution_count": 6,
     "metadata": {},
     "output_type": "execute_result"
    }
   ],
   "source": [
    "df_match.rename({'scorecard': 'match_id'}, axis = 1, inplace = True)\n",
    "df_match.head()"
   ]
  },
  {
   "cell_type": "markdown",
   "id": "e2638d62",
   "metadata": {},
   "source": [
    "**Create a match ids dictionary that maps team names to a unique match id. This will be useful later on to link with other tables**"
   ]
  },
  {
   "cell_type": "code",
   "execution_count": 7,
   "id": "fe3721af",
   "metadata": {
    "ExecuteTime": {
     "end_time": "2023-12-30T15:23:05.233410400Z",
     "start_time": "2023-12-30T15:23:05.217312700Z"
    }
   },
   "outputs": [],
   "source": [
    "match_ids_dict = {}\n",
    "\n",
    "for index, row in df_match.iterrows():\n",
    "    key1 = row['team1'] + ' Vs ' + row['team2']\n",
    "    key2 = row['team2'] + ' Vs ' + row['team1']\n",
    "    match_ids_dict[key1] = row['match_id']\n",
    "    match_ids_dict[key2] = row['match_id']"
   ]
  },
  {
   "cell_type": "code",
   "execution_count": 8,
   "id": "8916b21f",
   "metadata": {
    "ExecuteTime": {
     "end_time": "2023-12-30T15:23:06.401806900Z",
     "start_time": "2023-12-30T15:23:06.374186200Z"
    }
   },
   "outputs": [],
   "source": [
    "df_match.to_csv('t20_csv_files/dim_match_summary.csv', index = False)"
   ]
  },
  {
   "cell_type": "markdown",
   "id": "c48642e6",
   "metadata": {},
   "source": [
    "<h4 style=\"color:red\">(2) Process Batting Summary</h4>"
   ]
  },
  {
   "cell_type": "code",
   "execution_count": 9,
   "id": "5b815da6",
   "metadata": {
    "ExecuteTime": {
     "end_time": "2023-12-30T15:23:17.302024Z",
     "start_time": "2023-12-30T15:23:17.274458700Z"
    }
   },
   "outputs": [
    {
     "data": {
      "text/plain": "                    match teamInnings  battingPos                 batsmanName  \\\n0    Namibia Vs Sri Lanka     Namibia           1          Michael van Lingen   \n1    Namibia Vs Sri Lanka     Namibia           2               Divan la Cock   \n2    Namibia Vs Sri Lanka     Namibia           3      Jan Nicol Loftie-Eaton   \n3    Namibia Vs Sri Lanka     Namibia           4               Stephan Baard   \n4    Namibia Vs Sri Lanka     Namibia           5          Gerhard Erasmus(c)   \n5    Namibia Vs Sri Lanka     Namibia           6                Jan Frylinck   \n6    Namibia Vs Sri Lanka     Namibia           7                 David Wiese   \n7    Namibia Vs Sri Lanka     Namibia           8                     JJ Smit   \n8    Namibia Vs Sri Lanka   Sri Lanka           1             Pathum Nissanka   \n9    Namibia Vs Sri Lanka   Sri Lanka           2             Kusal Mendisâ€    \n10   Namibia Vs Sri Lanka   Sri Lanka           3         Dhananjaya de Silva   \n11   Namibia Vs Sri Lanka   Sri Lanka           4        Danushka Gunathilaka   \n12   Namibia Vs Sri Lanka   Sri Lanka           5           Bhanuka Rajapaksa   \n13   Namibia Vs Sri Lanka   Sri Lanka           6            Dasun Shanaka(c)   \n14   Namibia Vs Sri Lanka   Sri Lanka           7  Wanindu Hasaranga de Silva   \n15   Namibia Vs Sri Lanka   Sri Lanka           8         Chamika Karunaratne   \n16   Namibia Vs Sri Lanka   Sri Lanka           9             Pramod Madushan   \n17   Namibia Vs Sri Lanka   Sri Lanka          10         Dushmantha Chameera   \n18   Namibia Vs Sri Lanka   Sri Lanka          11          Maheesh Theekshana   \n19  U.A.E. Vs Netherlands      U.A.E.           1                 Chirag Suri   \n\n                          dismissal runs balls 4s 6s      SR  \n0      c Pramod Madushan b Chameera    3     6  0  0   50.00  \n1       c Shanaka b Pramod Madushan    9     9  1  0  100.00  \n2         c â€ Mendis b Karunaratne   20    12  1  2  166.66  \n3   c DM de Silva b Pramod Madushan   26    24  2  0  108.33  \n4      c Gunathilaka b PWH de Silva   20    24  0  0   83.33  \n5   run out (Gunathilaka/â€ Mendis)   44    28  4  0  157.14  \n6          c â€ Mendis b Theekshana    0     1  0  0    0.00  \n7                                     31    16  2  2  193.75  \n8                 c Smit b Shikongo    9    10  1  0   90.00  \n9                c â€ Green b Wiese    6     6  0  0  100.00  \n10            c Shikongo b Frylinck   12    11  1  0  109.09  \n11            c â€ Green b Shikongo    0     1  0  0    0.00  \n12              c la Cock b Scholtz   20    21  2  0   95.23  \n13            c â€ Green b Frylinck   29    23  2  1  126.08  \n14         c Loftie-Eaton b Scholtz    4     8  0  0   50.00  \n15                   c Baard b Smit    5     8  0  0   62.50  \n16    run out (van Lingen/â€ Green)    0     0  0  0       -  \n17                c Erasmus b Wiese    8    15  0  0   53.33  \n18                                    11    11  0  1  100.00  \n19     c â€ Edwards b van der Merwe   12    20  1  0   60.00  ",
      "text/html": "<div>\n<style scoped>\n    .dataframe tbody tr th:only-of-type {\n        vertical-align: middle;\n    }\n\n    .dataframe tbody tr th {\n        vertical-align: top;\n    }\n\n    .dataframe thead th {\n        text-align: right;\n    }\n</style>\n<table border=\"1\" class=\"dataframe\">\n  <thead>\n    <tr style=\"text-align: right;\">\n      <th></th>\n      <th>match</th>\n      <th>teamInnings</th>\n      <th>battingPos</th>\n      <th>batsmanName</th>\n      <th>dismissal</th>\n      <th>runs</th>\n      <th>balls</th>\n      <th>4s</th>\n      <th>6s</th>\n      <th>SR</th>\n    </tr>\n  </thead>\n  <tbody>\n    <tr>\n      <th>0</th>\n      <td>Namibia Vs Sri Lanka</td>\n      <td>Namibia</td>\n      <td>1</td>\n      <td>Michael van Lingen</td>\n      <td>c Pramod Madushan b Chameera</td>\n      <td>3</td>\n      <td>6</td>\n      <td>0</td>\n      <td>0</td>\n      <td>50.00</td>\n    </tr>\n    <tr>\n      <th>1</th>\n      <td>Namibia Vs Sri Lanka</td>\n      <td>Namibia</td>\n      <td>2</td>\n      <td>Divan la Cock</td>\n      <td>c Shanaka b Pramod Madushan</td>\n      <td>9</td>\n      <td>9</td>\n      <td>1</td>\n      <td>0</td>\n      <td>100.00</td>\n    </tr>\n    <tr>\n      <th>2</th>\n      <td>Namibia Vs Sri Lanka</td>\n      <td>Namibia</td>\n      <td>3</td>\n      <td>Jan Nicol Loftie-Eaton</td>\n      <td>c â€ Mendis b Karunaratne</td>\n      <td>20</td>\n      <td>12</td>\n      <td>1</td>\n      <td>2</td>\n      <td>166.66</td>\n    </tr>\n    <tr>\n      <th>3</th>\n      <td>Namibia Vs Sri Lanka</td>\n      <td>Namibia</td>\n      <td>4</td>\n      <td>Stephan Baard</td>\n      <td>c DM de Silva b Pramod Madushan</td>\n      <td>26</td>\n      <td>24</td>\n      <td>2</td>\n      <td>0</td>\n      <td>108.33</td>\n    </tr>\n    <tr>\n      <th>4</th>\n      <td>Namibia Vs Sri Lanka</td>\n      <td>Namibia</td>\n      <td>5</td>\n      <td>Gerhard Erasmus(c)</td>\n      <td>c Gunathilaka b PWH de Silva</td>\n      <td>20</td>\n      <td>24</td>\n      <td>0</td>\n      <td>0</td>\n      <td>83.33</td>\n    </tr>\n    <tr>\n      <th>5</th>\n      <td>Namibia Vs Sri Lanka</td>\n      <td>Namibia</td>\n      <td>6</td>\n      <td>Jan Frylinck</td>\n      <td>run out (Gunathilaka/â€ Mendis)</td>\n      <td>44</td>\n      <td>28</td>\n      <td>4</td>\n      <td>0</td>\n      <td>157.14</td>\n    </tr>\n    <tr>\n      <th>6</th>\n      <td>Namibia Vs Sri Lanka</td>\n      <td>Namibia</td>\n      <td>7</td>\n      <td>David Wiese</td>\n      <td>c â€ Mendis b Theekshana</td>\n      <td>0</td>\n      <td>1</td>\n      <td>0</td>\n      <td>0</td>\n      <td>0.00</td>\n    </tr>\n    <tr>\n      <th>7</th>\n      <td>Namibia Vs Sri Lanka</td>\n      <td>Namibia</td>\n      <td>8</td>\n      <td>JJ Smit</td>\n      <td></td>\n      <td>31</td>\n      <td>16</td>\n      <td>2</td>\n      <td>2</td>\n      <td>193.75</td>\n    </tr>\n    <tr>\n      <th>8</th>\n      <td>Namibia Vs Sri Lanka</td>\n      <td>Sri Lanka</td>\n      <td>1</td>\n      <td>Pathum Nissanka</td>\n      <td>c Smit b Shikongo</td>\n      <td>9</td>\n      <td>10</td>\n      <td>1</td>\n      <td>0</td>\n      <td>90.00</td>\n    </tr>\n    <tr>\n      <th>9</th>\n      <td>Namibia Vs Sri Lanka</td>\n      <td>Sri Lanka</td>\n      <td>2</td>\n      <td>Kusal Mendisâ€</td>\n      <td>c â€ Green b Wiese</td>\n      <td>6</td>\n      <td>6</td>\n      <td>0</td>\n      <td>0</td>\n      <td>100.00</td>\n    </tr>\n    <tr>\n      <th>10</th>\n      <td>Namibia Vs Sri Lanka</td>\n      <td>Sri Lanka</td>\n      <td>3</td>\n      <td>Dhananjaya de Silva</td>\n      <td>c Shikongo b Frylinck</td>\n      <td>12</td>\n      <td>11</td>\n      <td>1</td>\n      <td>0</td>\n      <td>109.09</td>\n    </tr>\n    <tr>\n      <th>11</th>\n      <td>Namibia Vs Sri Lanka</td>\n      <td>Sri Lanka</td>\n      <td>4</td>\n      <td>Danushka Gunathilaka</td>\n      <td>c â€ Green b Shikongo</td>\n      <td>0</td>\n      <td>1</td>\n      <td>0</td>\n      <td>0</td>\n      <td>0.00</td>\n    </tr>\n    <tr>\n      <th>12</th>\n      <td>Namibia Vs Sri Lanka</td>\n      <td>Sri Lanka</td>\n      <td>5</td>\n      <td>Bhanuka Rajapaksa</td>\n      <td>c la Cock b Scholtz</td>\n      <td>20</td>\n      <td>21</td>\n      <td>2</td>\n      <td>0</td>\n      <td>95.23</td>\n    </tr>\n    <tr>\n      <th>13</th>\n      <td>Namibia Vs Sri Lanka</td>\n      <td>Sri Lanka</td>\n      <td>6</td>\n      <td>Dasun Shanaka(c)</td>\n      <td>c â€ Green b Frylinck</td>\n      <td>29</td>\n      <td>23</td>\n      <td>2</td>\n      <td>1</td>\n      <td>126.08</td>\n    </tr>\n    <tr>\n      <th>14</th>\n      <td>Namibia Vs Sri Lanka</td>\n      <td>Sri Lanka</td>\n      <td>7</td>\n      <td>Wanindu Hasaranga de Silva</td>\n      <td>c Loftie-Eaton b Scholtz</td>\n      <td>4</td>\n      <td>8</td>\n      <td>0</td>\n      <td>0</td>\n      <td>50.00</td>\n    </tr>\n    <tr>\n      <th>15</th>\n      <td>Namibia Vs Sri Lanka</td>\n      <td>Sri Lanka</td>\n      <td>8</td>\n      <td>Chamika Karunaratne</td>\n      <td>c Baard b Smit</td>\n      <td>5</td>\n      <td>8</td>\n      <td>0</td>\n      <td>0</td>\n      <td>62.50</td>\n    </tr>\n    <tr>\n      <th>16</th>\n      <td>Namibia Vs Sri Lanka</td>\n      <td>Sri Lanka</td>\n      <td>9</td>\n      <td>Pramod Madushan</td>\n      <td>run out (van Lingen/â€ Green)</td>\n      <td>0</td>\n      <td>0</td>\n      <td>0</td>\n      <td>0</td>\n      <td>-</td>\n    </tr>\n    <tr>\n      <th>17</th>\n      <td>Namibia Vs Sri Lanka</td>\n      <td>Sri Lanka</td>\n      <td>10</td>\n      <td>Dushmantha Chameera</td>\n      <td>c Erasmus b Wiese</td>\n      <td>8</td>\n      <td>15</td>\n      <td>0</td>\n      <td>0</td>\n      <td>53.33</td>\n    </tr>\n    <tr>\n      <th>18</th>\n      <td>Namibia Vs Sri Lanka</td>\n      <td>Sri Lanka</td>\n      <td>11</td>\n      <td>Maheesh Theekshana</td>\n      <td></td>\n      <td>11</td>\n      <td>11</td>\n      <td>0</td>\n      <td>1</td>\n      <td>100.00</td>\n    </tr>\n    <tr>\n      <th>19</th>\n      <td>U.A.E. Vs Netherlands</td>\n      <td>U.A.E.</td>\n      <td>1</td>\n      <td>Chirag Suri</td>\n      <td>c â€ Edwards b van der Merwe</td>\n      <td>12</td>\n      <td>20</td>\n      <td>1</td>\n      <td>0</td>\n      <td>60.00</td>\n    </tr>\n  </tbody>\n</table>\n</div>"
     },
     "execution_count": 9,
     "metadata": {},
     "output_type": "execute_result"
    }
   ],
   "source": [
    "with open('t20_json_files/t20_wc_batting_summary.json') as f:\n",
    "    data = json.load(f)\n",
    "    all_records = []\n",
    "    for rec in data:\n",
    "        all_records.extend(rec['battingSummary'])\n",
    "  \n",
    "df_batting = pd.DataFrame(all_records)\n",
    "df_batting.head(20)"
   ]
  },
  {
   "cell_type": "code",
   "execution_count": 10,
   "id": "ff91aa85",
   "metadata": {
    "ExecuteTime": {
     "end_time": "2023-12-30T15:24:02.957820300Z",
     "start_time": "2023-12-30T15:24:02.931388800Z"
    }
   },
   "outputs": [
    {
     "data": {
      "text/plain": "                    match teamInnings  battingPos                 batsmanName  \\\n0    Namibia Vs Sri Lanka     Namibia           1          Michael van Lingen   \n1    Namibia Vs Sri Lanka     Namibia           2               Divan la Cock   \n2    Namibia Vs Sri Lanka     Namibia           3      Jan Nicol Loftie-Eaton   \n3    Namibia Vs Sri Lanka     Namibia           4               Stephan Baard   \n4    Namibia Vs Sri Lanka     Namibia           5          Gerhard Erasmus(c)   \n5    Namibia Vs Sri Lanka     Namibia           6                Jan Frylinck   \n6    Namibia Vs Sri Lanka     Namibia           7                 David Wiese   \n7    Namibia Vs Sri Lanka     Namibia           8                     JJ Smit   \n8    Namibia Vs Sri Lanka   Sri Lanka           1             Pathum Nissanka   \n9    Namibia Vs Sri Lanka   Sri Lanka           2             Kusal Mendisâ€    \n10   Namibia Vs Sri Lanka   Sri Lanka           3         Dhananjaya de Silva   \n11   Namibia Vs Sri Lanka   Sri Lanka           4        Danushka Gunathilaka   \n12   Namibia Vs Sri Lanka   Sri Lanka           5           Bhanuka Rajapaksa   \n13   Namibia Vs Sri Lanka   Sri Lanka           6            Dasun Shanaka(c)   \n14   Namibia Vs Sri Lanka   Sri Lanka           7  Wanindu Hasaranga de Silva   \n15   Namibia Vs Sri Lanka   Sri Lanka           8         Chamika Karunaratne   \n16   Namibia Vs Sri Lanka   Sri Lanka           9             Pramod Madushan   \n17   Namibia Vs Sri Lanka   Sri Lanka          10         Dushmantha Chameera   \n18   Namibia Vs Sri Lanka   Sri Lanka          11          Maheesh Theekshana   \n19  U.A.E. Vs Netherlands      U.A.E.           1                 Chirag Suri   \n\n                          dismissal runs balls 4s 6s      SR out/not_out  \n0      c Pramod Madushan b Chameera    3     6  0  0   50.00         out  \n1       c Shanaka b Pramod Madushan    9     9  1  0  100.00         out  \n2         c â€ Mendis b Karunaratne   20    12  1  2  166.66         out  \n3   c DM de Silva b Pramod Madushan   26    24  2  0  108.33         out  \n4      c Gunathilaka b PWH de Silva   20    24  0  0   83.33         out  \n5   run out (Gunathilaka/â€ Mendis)   44    28  4  0  157.14         out  \n6          c â€ Mendis b Theekshana    0     1  0  0    0.00         out  \n7                                     31    16  2  2  193.75     not_out  \n8                 c Smit b Shikongo    9    10  1  0   90.00         out  \n9                c â€ Green b Wiese    6     6  0  0  100.00         out  \n10            c Shikongo b Frylinck   12    11  1  0  109.09         out  \n11            c â€ Green b Shikongo    0     1  0  0    0.00         out  \n12              c la Cock b Scholtz   20    21  2  0   95.23         out  \n13            c â€ Green b Frylinck   29    23  2  1  126.08         out  \n14         c Loftie-Eaton b Scholtz    4     8  0  0   50.00         out  \n15                   c Baard b Smit    5     8  0  0   62.50         out  \n16    run out (van Lingen/â€ Green)    0     0  0  0       -         out  \n17                c Erasmus b Wiese    8    15  0  0   53.33         out  \n18                                    11    11  0  1  100.00     not_out  \n19     c â€ Edwards b van der Merwe   12    20  1  0   60.00         out  ",
      "text/html": "<div>\n<style scoped>\n    .dataframe tbody tr th:only-of-type {\n        vertical-align: middle;\n    }\n\n    .dataframe tbody tr th {\n        vertical-align: top;\n    }\n\n    .dataframe thead th {\n        text-align: right;\n    }\n</style>\n<table border=\"1\" class=\"dataframe\">\n  <thead>\n    <tr style=\"text-align: right;\">\n      <th></th>\n      <th>match</th>\n      <th>teamInnings</th>\n      <th>battingPos</th>\n      <th>batsmanName</th>\n      <th>dismissal</th>\n      <th>runs</th>\n      <th>balls</th>\n      <th>4s</th>\n      <th>6s</th>\n      <th>SR</th>\n      <th>out/not_out</th>\n    </tr>\n  </thead>\n  <tbody>\n    <tr>\n      <th>0</th>\n      <td>Namibia Vs Sri Lanka</td>\n      <td>Namibia</td>\n      <td>1</td>\n      <td>Michael van Lingen</td>\n      <td>c Pramod Madushan b Chameera</td>\n      <td>3</td>\n      <td>6</td>\n      <td>0</td>\n      <td>0</td>\n      <td>50.00</td>\n      <td>out</td>\n    </tr>\n    <tr>\n      <th>1</th>\n      <td>Namibia Vs Sri Lanka</td>\n      <td>Namibia</td>\n      <td>2</td>\n      <td>Divan la Cock</td>\n      <td>c Shanaka b Pramod Madushan</td>\n      <td>9</td>\n      <td>9</td>\n      <td>1</td>\n      <td>0</td>\n      <td>100.00</td>\n      <td>out</td>\n    </tr>\n    <tr>\n      <th>2</th>\n      <td>Namibia Vs Sri Lanka</td>\n      <td>Namibia</td>\n      <td>3</td>\n      <td>Jan Nicol Loftie-Eaton</td>\n      <td>c â€ Mendis b Karunaratne</td>\n      <td>20</td>\n      <td>12</td>\n      <td>1</td>\n      <td>2</td>\n      <td>166.66</td>\n      <td>out</td>\n    </tr>\n    <tr>\n      <th>3</th>\n      <td>Namibia Vs Sri Lanka</td>\n      <td>Namibia</td>\n      <td>4</td>\n      <td>Stephan Baard</td>\n      <td>c DM de Silva b Pramod Madushan</td>\n      <td>26</td>\n      <td>24</td>\n      <td>2</td>\n      <td>0</td>\n      <td>108.33</td>\n      <td>out</td>\n    </tr>\n    <tr>\n      <th>4</th>\n      <td>Namibia Vs Sri Lanka</td>\n      <td>Namibia</td>\n      <td>5</td>\n      <td>Gerhard Erasmus(c)</td>\n      <td>c Gunathilaka b PWH de Silva</td>\n      <td>20</td>\n      <td>24</td>\n      <td>0</td>\n      <td>0</td>\n      <td>83.33</td>\n      <td>out</td>\n    </tr>\n    <tr>\n      <th>5</th>\n      <td>Namibia Vs Sri Lanka</td>\n      <td>Namibia</td>\n      <td>6</td>\n      <td>Jan Frylinck</td>\n      <td>run out (Gunathilaka/â€ Mendis)</td>\n      <td>44</td>\n      <td>28</td>\n      <td>4</td>\n      <td>0</td>\n      <td>157.14</td>\n      <td>out</td>\n    </tr>\n    <tr>\n      <th>6</th>\n      <td>Namibia Vs Sri Lanka</td>\n      <td>Namibia</td>\n      <td>7</td>\n      <td>David Wiese</td>\n      <td>c â€ Mendis b Theekshana</td>\n      <td>0</td>\n      <td>1</td>\n      <td>0</td>\n      <td>0</td>\n      <td>0.00</td>\n      <td>out</td>\n    </tr>\n    <tr>\n      <th>7</th>\n      <td>Namibia Vs Sri Lanka</td>\n      <td>Namibia</td>\n      <td>8</td>\n      <td>JJ Smit</td>\n      <td></td>\n      <td>31</td>\n      <td>16</td>\n      <td>2</td>\n      <td>2</td>\n      <td>193.75</td>\n      <td>not_out</td>\n    </tr>\n    <tr>\n      <th>8</th>\n      <td>Namibia Vs Sri Lanka</td>\n      <td>Sri Lanka</td>\n      <td>1</td>\n      <td>Pathum Nissanka</td>\n      <td>c Smit b Shikongo</td>\n      <td>9</td>\n      <td>10</td>\n      <td>1</td>\n      <td>0</td>\n      <td>90.00</td>\n      <td>out</td>\n    </tr>\n    <tr>\n      <th>9</th>\n      <td>Namibia Vs Sri Lanka</td>\n      <td>Sri Lanka</td>\n      <td>2</td>\n      <td>Kusal Mendisâ€</td>\n      <td>c â€ Green b Wiese</td>\n      <td>6</td>\n      <td>6</td>\n      <td>0</td>\n      <td>0</td>\n      <td>100.00</td>\n      <td>out</td>\n    </tr>\n    <tr>\n      <th>10</th>\n      <td>Namibia Vs Sri Lanka</td>\n      <td>Sri Lanka</td>\n      <td>3</td>\n      <td>Dhananjaya de Silva</td>\n      <td>c Shikongo b Frylinck</td>\n      <td>12</td>\n      <td>11</td>\n      <td>1</td>\n      <td>0</td>\n      <td>109.09</td>\n      <td>out</td>\n    </tr>\n    <tr>\n      <th>11</th>\n      <td>Namibia Vs Sri Lanka</td>\n      <td>Sri Lanka</td>\n      <td>4</td>\n      <td>Danushka Gunathilaka</td>\n      <td>c â€ Green b Shikongo</td>\n      <td>0</td>\n      <td>1</td>\n      <td>0</td>\n      <td>0</td>\n      <td>0.00</td>\n      <td>out</td>\n    </tr>\n    <tr>\n      <th>12</th>\n      <td>Namibia Vs Sri Lanka</td>\n      <td>Sri Lanka</td>\n      <td>5</td>\n      <td>Bhanuka Rajapaksa</td>\n      <td>c la Cock b Scholtz</td>\n      <td>20</td>\n      <td>21</td>\n      <td>2</td>\n      <td>0</td>\n      <td>95.23</td>\n      <td>out</td>\n    </tr>\n    <tr>\n      <th>13</th>\n      <td>Namibia Vs Sri Lanka</td>\n      <td>Sri Lanka</td>\n      <td>6</td>\n      <td>Dasun Shanaka(c)</td>\n      <td>c â€ Green b Frylinck</td>\n      <td>29</td>\n      <td>23</td>\n      <td>2</td>\n      <td>1</td>\n      <td>126.08</td>\n      <td>out</td>\n    </tr>\n    <tr>\n      <th>14</th>\n      <td>Namibia Vs Sri Lanka</td>\n      <td>Sri Lanka</td>\n      <td>7</td>\n      <td>Wanindu Hasaranga de Silva</td>\n      <td>c Loftie-Eaton b Scholtz</td>\n      <td>4</td>\n      <td>8</td>\n      <td>0</td>\n      <td>0</td>\n      <td>50.00</td>\n      <td>out</td>\n    </tr>\n    <tr>\n      <th>15</th>\n      <td>Namibia Vs Sri Lanka</td>\n      <td>Sri Lanka</td>\n      <td>8</td>\n      <td>Chamika Karunaratne</td>\n      <td>c Baard b Smit</td>\n      <td>5</td>\n      <td>8</td>\n      <td>0</td>\n      <td>0</td>\n      <td>62.50</td>\n      <td>out</td>\n    </tr>\n    <tr>\n      <th>16</th>\n      <td>Namibia Vs Sri Lanka</td>\n      <td>Sri Lanka</td>\n      <td>9</td>\n      <td>Pramod Madushan</td>\n      <td>run out (van Lingen/â€ Green)</td>\n      <td>0</td>\n      <td>0</td>\n      <td>0</td>\n      <td>0</td>\n      <td>-</td>\n      <td>out</td>\n    </tr>\n    <tr>\n      <th>17</th>\n      <td>Namibia Vs Sri Lanka</td>\n      <td>Sri Lanka</td>\n      <td>10</td>\n      <td>Dushmantha Chameera</td>\n      <td>c Erasmus b Wiese</td>\n      <td>8</td>\n      <td>15</td>\n      <td>0</td>\n      <td>0</td>\n      <td>53.33</td>\n      <td>out</td>\n    </tr>\n    <tr>\n      <th>18</th>\n      <td>Namibia Vs Sri Lanka</td>\n      <td>Sri Lanka</td>\n      <td>11</td>\n      <td>Maheesh Theekshana</td>\n      <td></td>\n      <td>11</td>\n      <td>11</td>\n      <td>0</td>\n      <td>1</td>\n      <td>100.00</td>\n      <td>not_out</td>\n    </tr>\n    <tr>\n      <th>19</th>\n      <td>U.A.E. Vs Netherlands</td>\n      <td>U.A.E.</td>\n      <td>1</td>\n      <td>Chirag Suri</td>\n      <td>c â€ Edwards b van der Merwe</td>\n      <td>12</td>\n      <td>20</td>\n      <td>1</td>\n      <td>0</td>\n      <td>60.00</td>\n      <td>out</td>\n    </tr>\n  </tbody>\n</table>\n</div>"
     },
     "execution_count": 10,
     "metadata": {},
     "output_type": "execute_result"
    }
   ],
   "source": [
    "df_batting['out/not_out'] = df_batting.dismissal.apply(lambda x: \"out\" if len(x)>0 else \"not_out\")\n",
    "df_batting.head(20)"
   ]
  },
  {
   "cell_type": "code",
   "execution_count": 11,
   "id": "f406128b",
   "metadata": {
    "scrolled": false,
    "ExecuteTime": {
     "end_time": "2023-12-30T15:36:05.402887600Z",
     "start_time": "2023-12-30T15:36:05.375494400Z"
    }
   },
   "outputs": [
    {
     "data": {
      "text/plain": "                  match teamInnings  battingPos             batsmanName  \\\n0  Namibia Vs Sri Lanka     Namibia           1      Michael van Lingen   \n1  Namibia Vs Sri Lanka     Namibia           2           Divan la Cock   \n2  Namibia Vs Sri Lanka     Namibia           3  Jan Nicol Loftie-Eaton   \n3  Namibia Vs Sri Lanka     Namibia           4           Stephan Baard   \n4  Namibia Vs Sri Lanka     Namibia           5      Gerhard Erasmus(c)   \n\n                         dismissal runs balls 4s 6s      SR out/not_out  \\\n0     c Pramod Madushan b Chameera    3     6  0  0   50.00         out   \n1      c Shanaka b Pramod Madushan    9     9  1  0  100.00         out   \n2        c â€ Mendis b Karunaratne   20    12  1  2  166.66         out   \n3  c DM de Silva b Pramod Madushan   26    24  2  0  108.33         out   \n4     c Gunathilaka b PWH de Silva   20    24  0  0   83.33         out   \n\n      match_id  \n0  T20I # 1823  \n1  T20I # 1823  \n2  T20I # 1823  \n3  T20I # 1823  \n4  T20I # 1823  ",
      "text/html": "<div>\n<style scoped>\n    .dataframe tbody tr th:only-of-type {\n        vertical-align: middle;\n    }\n\n    .dataframe tbody tr th {\n        vertical-align: top;\n    }\n\n    .dataframe thead th {\n        text-align: right;\n    }\n</style>\n<table border=\"1\" class=\"dataframe\">\n  <thead>\n    <tr style=\"text-align: right;\">\n      <th></th>\n      <th>match</th>\n      <th>teamInnings</th>\n      <th>battingPos</th>\n      <th>batsmanName</th>\n      <th>dismissal</th>\n      <th>runs</th>\n      <th>balls</th>\n      <th>4s</th>\n      <th>6s</th>\n      <th>SR</th>\n      <th>out/not_out</th>\n      <th>match_id</th>\n    </tr>\n  </thead>\n  <tbody>\n    <tr>\n      <th>0</th>\n      <td>Namibia Vs Sri Lanka</td>\n      <td>Namibia</td>\n      <td>1</td>\n      <td>Michael van Lingen</td>\n      <td>c Pramod Madushan b Chameera</td>\n      <td>3</td>\n      <td>6</td>\n      <td>0</td>\n      <td>0</td>\n      <td>50.00</td>\n      <td>out</td>\n      <td>T20I # 1823</td>\n    </tr>\n    <tr>\n      <th>1</th>\n      <td>Namibia Vs Sri Lanka</td>\n      <td>Namibia</td>\n      <td>2</td>\n      <td>Divan la Cock</td>\n      <td>c Shanaka b Pramod Madushan</td>\n      <td>9</td>\n      <td>9</td>\n      <td>1</td>\n      <td>0</td>\n      <td>100.00</td>\n      <td>out</td>\n      <td>T20I # 1823</td>\n    </tr>\n    <tr>\n      <th>2</th>\n      <td>Namibia Vs Sri Lanka</td>\n      <td>Namibia</td>\n      <td>3</td>\n      <td>Jan Nicol Loftie-Eaton</td>\n      <td>c â€ Mendis b Karunaratne</td>\n      <td>20</td>\n      <td>12</td>\n      <td>1</td>\n      <td>2</td>\n      <td>166.66</td>\n      <td>out</td>\n      <td>T20I # 1823</td>\n    </tr>\n    <tr>\n      <th>3</th>\n      <td>Namibia Vs Sri Lanka</td>\n      <td>Namibia</td>\n      <td>4</td>\n      <td>Stephan Baard</td>\n      <td>c DM de Silva b Pramod Madushan</td>\n      <td>26</td>\n      <td>24</td>\n      <td>2</td>\n      <td>0</td>\n      <td>108.33</td>\n      <td>out</td>\n      <td>T20I # 1823</td>\n    </tr>\n    <tr>\n      <th>4</th>\n      <td>Namibia Vs Sri Lanka</td>\n      <td>Namibia</td>\n      <td>5</td>\n      <td>Gerhard Erasmus(c)</td>\n      <td>c Gunathilaka b PWH de Silva</td>\n      <td>20</td>\n      <td>24</td>\n      <td>0</td>\n      <td>0</td>\n      <td>83.33</td>\n      <td>out</td>\n      <td>T20I # 1823</td>\n    </tr>\n  </tbody>\n</table>\n</div>"
     },
     "execution_count": 11,
     "metadata": {},
     "output_type": "execute_result"
    }
   ],
   "source": [
    "df_batting['match_id'] = df_batting['match'].map(match_ids_dict)\n",
    "df_batting.head()"
   ]
  },
  {
   "cell_type": "code",
   "execution_count": 12,
   "id": "f9e5fe21",
   "metadata": {
    "ExecuteTime": {
     "end_time": "2023-12-30T15:36:06.236351700Z",
     "start_time": "2023-12-30T15:36:06.207561700Z"
    }
   },
   "outputs": [
    {
     "data": {
      "text/plain": "                  match teamInnings  battingPos             batsmanName runs  \\\n0  Namibia Vs Sri Lanka     Namibia           1      Michael van Lingen    3   \n1  Namibia Vs Sri Lanka     Namibia           2           Divan la Cock    9   \n2  Namibia Vs Sri Lanka     Namibia           3  Jan Nicol Loftie-Eaton   20   \n3  Namibia Vs Sri Lanka     Namibia           4           Stephan Baard   26   \n4  Namibia Vs Sri Lanka     Namibia           5      Gerhard Erasmus(c)   20   \n5  Namibia Vs Sri Lanka     Namibia           6            Jan Frylinck   44   \n6  Namibia Vs Sri Lanka     Namibia           7             David Wiese    0   \n7  Namibia Vs Sri Lanka     Namibia           8                 JJ Smit   31   \n8  Namibia Vs Sri Lanka   Sri Lanka           1         Pathum Nissanka    9   \n9  Namibia Vs Sri Lanka   Sri Lanka           2         Kusal Mendisâ€     6   \n\n  balls 4s 6s      SR out/not_out     match_id  \n0     6  0  0   50.00         out  T20I # 1823  \n1     9  1  0  100.00         out  T20I # 1823  \n2    12  1  2  166.66         out  T20I # 1823  \n3    24  2  0  108.33         out  T20I # 1823  \n4    24  0  0   83.33         out  T20I # 1823  \n5    28  4  0  157.14         out  T20I # 1823  \n6     1  0  0    0.00         out  T20I # 1823  \n7    16  2  2  193.75     not_out  T20I # 1823  \n8    10  1  0   90.00         out  T20I # 1823  \n9     6  0  0  100.00         out  T20I # 1823  ",
      "text/html": "<div>\n<style scoped>\n    .dataframe tbody tr th:only-of-type {\n        vertical-align: middle;\n    }\n\n    .dataframe tbody tr th {\n        vertical-align: top;\n    }\n\n    .dataframe thead th {\n        text-align: right;\n    }\n</style>\n<table border=\"1\" class=\"dataframe\">\n  <thead>\n    <tr style=\"text-align: right;\">\n      <th></th>\n      <th>match</th>\n      <th>teamInnings</th>\n      <th>battingPos</th>\n      <th>batsmanName</th>\n      <th>runs</th>\n      <th>balls</th>\n      <th>4s</th>\n      <th>6s</th>\n      <th>SR</th>\n      <th>out/not_out</th>\n      <th>match_id</th>\n    </tr>\n  </thead>\n  <tbody>\n    <tr>\n      <th>0</th>\n      <td>Namibia Vs Sri Lanka</td>\n      <td>Namibia</td>\n      <td>1</td>\n      <td>Michael van Lingen</td>\n      <td>3</td>\n      <td>6</td>\n      <td>0</td>\n      <td>0</td>\n      <td>50.00</td>\n      <td>out</td>\n      <td>T20I # 1823</td>\n    </tr>\n    <tr>\n      <th>1</th>\n      <td>Namibia Vs Sri Lanka</td>\n      <td>Namibia</td>\n      <td>2</td>\n      <td>Divan la Cock</td>\n      <td>9</td>\n      <td>9</td>\n      <td>1</td>\n      <td>0</td>\n      <td>100.00</td>\n      <td>out</td>\n      <td>T20I # 1823</td>\n    </tr>\n    <tr>\n      <th>2</th>\n      <td>Namibia Vs Sri Lanka</td>\n      <td>Namibia</td>\n      <td>3</td>\n      <td>Jan Nicol Loftie-Eaton</td>\n      <td>20</td>\n      <td>12</td>\n      <td>1</td>\n      <td>2</td>\n      <td>166.66</td>\n      <td>out</td>\n      <td>T20I # 1823</td>\n    </tr>\n    <tr>\n      <th>3</th>\n      <td>Namibia Vs Sri Lanka</td>\n      <td>Namibia</td>\n      <td>4</td>\n      <td>Stephan Baard</td>\n      <td>26</td>\n      <td>24</td>\n      <td>2</td>\n      <td>0</td>\n      <td>108.33</td>\n      <td>out</td>\n      <td>T20I # 1823</td>\n    </tr>\n    <tr>\n      <th>4</th>\n      <td>Namibia Vs Sri Lanka</td>\n      <td>Namibia</td>\n      <td>5</td>\n      <td>Gerhard Erasmus(c)</td>\n      <td>20</td>\n      <td>24</td>\n      <td>0</td>\n      <td>0</td>\n      <td>83.33</td>\n      <td>out</td>\n      <td>T20I # 1823</td>\n    </tr>\n    <tr>\n      <th>5</th>\n      <td>Namibia Vs Sri Lanka</td>\n      <td>Namibia</td>\n      <td>6</td>\n      <td>Jan Frylinck</td>\n      <td>44</td>\n      <td>28</td>\n      <td>4</td>\n      <td>0</td>\n      <td>157.14</td>\n      <td>out</td>\n      <td>T20I # 1823</td>\n    </tr>\n    <tr>\n      <th>6</th>\n      <td>Namibia Vs Sri Lanka</td>\n      <td>Namibia</td>\n      <td>7</td>\n      <td>David Wiese</td>\n      <td>0</td>\n      <td>1</td>\n      <td>0</td>\n      <td>0</td>\n      <td>0.00</td>\n      <td>out</td>\n      <td>T20I # 1823</td>\n    </tr>\n    <tr>\n      <th>7</th>\n      <td>Namibia Vs Sri Lanka</td>\n      <td>Namibia</td>\n      <td>8</td>\n      <td>JJ Smit</td>\n      <td>31</td>\n      <td>16</td>\n      <td>2</td>\n      <td>2</td>\n      <td>193.75</td>\n      <td>not_out</td>\n      <td>T20I # 1823</td>\n    </tr>\n    <tr>\n      <th>8</th>\n      <td>Namibia Vs Sri Lanka</td>\n      <td>Sri Lanka</td>\n      <td>1</td>\n      <td>Pathum Nissanka</td>\n      <td>9</td>\n      <td>10</td>\n      <td>1</td>\n      <td>0</td>\n      <td>90.00</td>\n      <td>out</td>\n      <td>T20I # 1823</td>\n    </tr>\n    <tr>\n      <th>9</th>\n      <td>Namibia Vs Sri Lanka</td>\n      <td>Sri Lanka</td>\n      <td>2</td>\n      <td>Kusal Mendisâ€</td>\n      <td>6</td>\n      <td>6</td>\n      <td>0</td>\n      <td>0</td>\n      <td>100.00</td>\n      <td>out</td>\n      <td>T20I # 1823</td>\n    </tr>\n  </tbody>\n</table>\n</div>"
     },
     "execution_count": 12,
     "metadata": {},
     "output_type": "execute_result"
    }
   ],
   "source": [
    "df_batting.drop(columns=[\"dismissal\"], inplace=True)\n",
    "df_batting.head(10)"
   ]
  },
  {
   "cell_type": "markdown",
   "id": "e4145ae4",
   "metadata": {},
   "source": [
    "**Cleanup weird characters**"
   ]
  },
  {
   "cell_type": "code",
   "execution_count": 13,
   "id": "779bb2f4",
   "metadata": {
    "scrolled": true,
    "ExecuteTime": {
     "end_time": "2023-12-30T15:36:09.749983800Z",
     "start_time": "2023-12-30T15:36:09.725407400Z"
    }
   },
   "outputs": [
    {
     "data": {
      "text/plain": "                  match teamInnings  battingPos             batsmanName runs  \\\n0  Namibia Vs Sri Lanka     Namibia           1      Michael van Lingen    3   \n1  Namibia Vs Sri Lanka     Namibia           2           Divan la Cock    9   \n2  Namibia Vs Sri Lanka     Namibia           3  Jan Nicol Loftie-Eaton   20   \n3  Namibia Vs Sri Lanka     Namibia           4           Stephan Baard   26   \n4  Namibia Vs Sri Lanka     Namibia           5      Gerhard Erasmus(c)   20   \n\n  balls 4s 6s      SR out/not_out     match_id  \n0     6  0  0   50.00         out  T20I # 1823  \n1     9  1  0  100.00         out  T20I # 1823  \n2    12  1  2  166.66         out  T20I # 1823  \n3    24  2  0  108.33         out  T20I # 1823  \n4    24  0  0   83.33         out  T20I # 1823  ",
      "text/html": "<div>\n<style scoped>\n    .dataframe tbody tr th:only-of-type {\n        vertical-align: middle;\n    }\n\n    .dataframe tbody tr th {\n        vertical-align: top;\n    }\n\n    .dataframe thead th {\n        text-align: right;\n    }\n</style>\n<table border=\"1\" class=\"dataframe\">\n  <thead>\n    <tr style=\"text-align: right;\">\n      <th></th>\n      <th>match</th>\n      <th>teamInnings</th>\n      <th>battingPos</th>\n      <th>batsmanName</th>\n      <th>runs</th>\n      <th>balls</th>\n      <th>4s</th>\n      <th>6s</th>\n      <th>SR</th>\n      <th>out/not_out</th>\n      <th>match_id</th>\n    </tr>\n  </thead>\n  <tbody>\n    <tr>\n      <th>0</th>\n      <td>Namibia Vs Sri Lanka</td>\n      <td>Namibia</td>\n      <td>1</td>\n      <td>Michael van Lingen</td>\n      <td>3</td>\n      <td>6</td>\n      <td>0</td>\n      <td>0</td>\n      <td>50.00</td>\n      <td>out</td>\n      <td>T20I # 1823</td>\n    </tr>\n    <tr>\n      <th>1</th>\n      <td>Namibia Vs Sri Lanka</td>\n      <td>Namibia</td>\n      <td>2</td>\n      <td>Divan la Cock</td>\n      <td>9</td>\n      <td>9</td>\n      <td>1</td>\n      <td>0</td>\n      <td>100.00</td>\n      <td>out</td>\n      <td>T20I # 1823</td>\n    </tr>\n    <tr>\n      <th>2</th>\n      <td>Namibia Vs Sri Lanka</td>\n      <td>Namibia</td>\n      <td>3</td>\n      <td>Jan Nicol Loftie-Eaton</td>\n      <td>20</td>\n      <td>12</td>\n      <td>1</td>\n      <td>2</td>\n      <td>166.66</td>\n      <td>out</td>\n      <td>T20I # 1823</td>\n    </tr>\n    <tr>\n      <th>3</th>\n      <td>Namibia Vs Sri Lanka</td>\n      <td>Namibia</td>\n      <td>4</td>\n      <td>Stephan Baard</td>\n      <td>26</td>\n      <td>24</td>\n      <td>2</td>\n      <td>0</td>\n      <td>108.33</td>\n      <td>out</td>\n      <td>T20I # 1823</td>\n    </tr>\n    <tr>\n      <th>4</th>\n      <td>Namibia Vs Sri Lanka</td>\n      <td>Namibia</td>\n      <td>5</td>\n      <td>Gerhard Erasmus(c)</td>\n      <td>20</td>\n      <td>24</td>\n      <td>0</td>\n      <td>0</td>\n      <td>83.33</td>\n      <td>out</td>\n      <td>T20I # 1823</td>\n    </tr>\n  </tbody>\n</table>\n</div>"
     },
     "execution_count": 13,
     "metadata": {},
     "output_type": "execute_result"
    }
   ],
   "source": [
    "df_batting['batsmanName'] = df_batting['batsmanName'].apply(lambda x: x.replace('â€', ''))\n",
    "df_batting['batsmanName'] = df_batting['batsmanName'].apply(lambda x: x.replace('\\xa0', ''))\n",
    "df_batting.head()"
   ]
  },
  {
   "cell_type": "code",
   "execution_count": 14,
   "id": "22a2fb62",
   "metadata": {
    "ExecuteTime": {
     "end_time": "2023-12-30T15:36:12.711661700Z",
     "start_time": "2023-12-30T15:36:12.683774600Z"
    }
   },
   "outputs": [
    {
     "data": {
      "text/plain": "(699, 11)"
     },
     "execution_count": 14,
     "metadata": {},
     "output_type": "execute_result"
    }
   ],
   "source": [
    "df_batting.shape"
   ]
  },
  {
   "cell_type": "code",
   "execution_count": 15,
   "id": "191d4f5e",
   "metadata": {
    "ExecuteTime": {
     "end_time": "2023-12-30T15:36:13.831863600Z",
     "start_time": "2023-12-30T15:36:13.797051900Z"
    }
   },
   "outputs": [],
   "source": [
    "df_batting.to_csv('t20_csv_files/fact_bating_summary.csv', index = False)"
   ]
  },
  {
   "cell_type": "markdown",
   "id": "fc509885",
   "metadata": {},
   "source": [
    "<h4 style=\"color:red\">(3) Process Bowling Summary</h4>"
   ]
  },
  {
   "cell_type": "code",
   "execution_count": 16,
   "id": "81ed6da6",
   "metadata": {
    "ExecuteTime": {
     "end_time": "2023-12-30T15:36:24.793576800Z",
     "start_time": "2023-12-30T15:36:24.765445600Z"
    }
   },
   "outputs": [
    {
     "data": {
      "text/plain": "[{'match': 'Namibia Vs Sri Lanka',\n  'bowlingTeam': 'Sri Lanka',\n  'bowlerName': 'Maheesh Theekshana',\n  'overs': '4',\n  'maiden': '0',\n  'runs': '23',\n  'wickets': '1',\n  'economy': '5.75',\n  '0s': '7',\n  '4s': '0',\n  '6s': '0',\n  'wides': '2',\n  'noBalls': '0'},\n {'match': 'Namibia Vs Sri Lanka',\n  'bowlingTeam': 'Sri Lanka',\n  'bowlerName': 'Dushmantha Chameera',\n  'overs': '4',\n  'maiden': '0',\n  'runs': '39',\n  'wickets': '1',\n  'economy': '9.75',\n  '0s': '6',\n  '4s': '3',\n  '6s': '1',\n  'wides': '2',\n  'noBalls': '0'}]"
     },
     "execution_count": 16,
     "metadata": {},
     "output_type": "execute_result"
    }
   ],
   "source": [
    "with open('t20_json_files/t20_wc_bowling_summary.json') as f:\n",
    "    data = json.load(f)\n",
    "    all_records = []\n",
    "    for rec in data:\n",
    "        all_records.extend(rec['bowlingSummary'])\n",
    "all_records[:2]"
   ]
  },
  {
   "cell_type": "code",
   "execution_count": 17,
   "id": "adb9462f",
   "metadata": {
    "ExecuteTime": {
     "end_time": "2023-12-30T15:36:27.280479600Z",
     "start_time": "2023-12-30T15:36:27.257542600Z"
    }
   },
   "outputs": [
    {
     "name": "stdout",
     "output_type": "stream",
     "text": [
      "(500, 13)\n"
     ]
    },
    {
     "data": {
      "text/plain": "                  match bowlingTeam                  bowlerName overs maiden  \\\n0  Namibia Vs Sri Lanka   Sri Lanka          Maheesh Theekshana     4      0   \n1  Namibia Vs Sri Lanka   Sri Lanka         Dushmantha Chameera     4      0   \n2  Namibia Vs Sri Lanka   Sri Lanka             Pramod Madushan     4      0   \n3  Namibia Vs Sri Lanka   Sri Lanka         Chamika Karunaratne     4      0   \n4  Namibia Vs Sri Lanka   Sri Lanka  Wanindu Hasaranga de Silva     4      0   \n\n  runs wickets economy 0s 4s 6s wides noBalls  \n0   23       1    5.75  7  0  0     2       0  \n1   39       1    9.75  6  3  1     2       0  \n2   37       2    9.25  6  3  1     0       0  \n3   36       1    9.00  7  3  1     1       0  \n4   27       1    6.75  8  1  1     0       0  ",
      "text/html": "<div>\n<style scoped>\n    .dataframe tbody tr th:only-of-type {\n        vertical-align: middle;\n    }\n\n    .dataframe tbody tr th {\n        vertical-align: top;\n    }\n\n    .dataframe thead th {\n        text-align: right;\n    }\n</style>\n<table border=\"1\" class=\"dataframe\">\n  <thead>\n    <tr style=\"text-align: right;\">\n      <th></th>\n      <th>match</th>\n      <th>bowlingTeam</th>\n      <th>bowlerName</th>\n      <th>overs</th>\n      <th>maiden</th>\n      <th>runs</th>\n      <th>wickets</th>\n      <th>economy</th>\n      <th>0s</th>\n      <th>4s</th>\n      <th>6s</th>\n      <th>wides</th>\n      <th>noBalls</th>\n    </tr>\n  </thead>\n  <tbody>\n    <tr>\n      <th>0</th>\n      <td>Namibia Vs Sri Lanka</td>\n      <td>Sri Lanka</td>\n      <td>Maheesh Theekshana</td>\n      <td>4</td>\n      <td>0</td>\n      <td>23</td>\n      <td>1</td>\n      <td>5.75</td>\n      <td>7</td>\n      <td>0</td>\n      <td>0</td>\n      <td>2</td>\n      <td>0</td>\n    </tr>\n    <tr>\n      <th>1</th>\n      <td>Namibia Vs Sri Lanka</td>\n      <td>Sri Lanka</td>\n      <td>Dushmantha Chameera</td>\n      <td>4</td>\n      <td>0</td>\n      <td>39</td>\n      <td>1</td>\n      <td>9.75</td>\n      <td>6</td>\n      <td>3</td>\n      <td>1</td>\n      <td>2</td>\n      <td>0</td>\n    </tr>\n    <tr>\n      <th>2</th>\n      <td>Namibia Vs Sri Lanka</td>\n      <td>Sri Lanka</td>\n      <td>Pramod Madushan</td>\n      <td>4</td>\n      <td>0</td>\n      <td>37</td>\n      <td>2</td>\n      <td>9.25</td>\n      <td>6</td>\n      <td>3</td>\n      <td>1</td>\n      <td>0</td>\n      <td>0</td>\n    </tr>\n    <tr>\n      <th>3</th>\n      <td>Namibia Vs Sri Lanka</td>\n      <td>Sri Lanka</td>\n      <td>Chamika Karunaratne</td>\n      <td>4</td>\n      <td>0</td>\n      <td>36</td>\n      <td>1</td>\n      <td>9.00</td>\n      <td>7</td>\n      <td>3</td>\n      <td>1</td>\n      <td>1</td>\n      <td>0</td>\n    </tr>\n    <tr>\n      <th>4</th>\n      <td>Namibia Vs Sri Lanka</td>\n      <td>Sri Lanka</td>\n      <td>Wanindu Hasaranga de Silva</td>\n      <td>4</td>\n      <td>0</td>\n      <td>27</td>\n      <td>1</td>\n      <td>6.75</td>\n      <td>8</td>\n      <td>1</td>\n      <td>1</td>\n      <td>0</td>\n      <td>0</td>\n    </tr>\n  </tbody>\n</table>\n</div>"
     },
     "execution_count": 17,
     "metadata": {},
     "output_type": "execute_result"
    }
   ],
   "source": [
    "df_bowling = pd.DataFrame(all_records)\n",
    "print(df_bowling.shape)\n",
    "df_bowling.head()"
   ]
  },
  {
   "cell_type": "code",
   "execution_count": 18,
   "id": "701f2c8c",
   "metadata": {
    "ExecuteTime": {
     "end_time": "2023-12-30T15:36:29.953385Z",
     "start_time": "2023-12-30T15:36:29.933483800Z"
    }
   },
   "outputs": [
    {
     "data": {
      "text/plain": "                  match bowlingTeam                  bowlerName overs maiden  \\\n0  Namibia Vs Sri Lanka   Sri Lanka          Maheesh Theekshana     4      0   \n1  Namibia Vs Sri Lanka   Sri Lanka         Dushmantha Chameera     4      0   \n2  Namibia Vs Sri Lanka   Sri Lanka             Pramod Madushan     4      0   \n3  Namibia Vs Sri Lanka   Sri Lanka         Chamika Karunaratne     4      0   \n4  Namibia Vs Sri Lanka   Sri Lanka  Wanindu Hasaranga de Silva     4      0   \n\n  runs wickets economy 0s 4s 6s wides noBalls     match_id  \n0   23       1    5.75  7  0  0     2       0  T20I # 1823  \n1   39       1    9.75  6  3  1     2       0  T20I # 1823  \n2   37       2    9.25  6  3  1     0       0  T20I # 1823  \n3   36       1    9.00  7  3  1     1       0  T20I # 1823  \n4   27       1    6.75  8  1  1     0       0  T20I # 1823  ",
      "text/html": "<div>\n<style scoped>\n    .dataframe tbody tr th:only-of-type {\n        vertical-align: middle;\n    }\n\n    .dataframe tbody tr th {\n        vertical-align: top;\n    }\n\n    .dataframe thead th {\n        text-align: right;\n    }\n</style>\n<table border=\"1\" class=\"dataframe\">\n  <thead>\n    <tr style=\"text-align: right;\">\n      <th></th>\n      <th>match</th>\n      <th>bowlingTeam</th>\n      <th>bowlerName</th>\n      <th>overs</th>\n      <th>maiden</th>\n      <th>runs</th>\n      <th>wickets</th>\n      <th>economy</th>\n      <th>0s</th>\n      <th>4s</th>\n      <th>6s</th>\n      <th>wides</th>\n      <th>noBalls</th>\n      <th>match_id</th>\n    </tr>\n  </thead>\n  <tbody>\n    <tr>\n      <th>0</th>\n      <td>Namibia Vs Sri Lanka</td>\n      <td>Sri Lanka</td>\n      <td>Maheesh Theekshana</td>\n      <td>4</td>\n      <td>0</td>\n      <td>23</td>\n      <td>1</td>\n      <td>5.75</td>\n      <td>7</td>\n      <td>0</td>\n      <td>0</td>\n      <td>2</td>\n      <td>0</td>\n      <td>T20I # 1823</td>\n    </tr>\n    <tr>\n      <th>1</th>\n      <td>Namibia Vs Sri Lanka</td>\n      <td>Sri Lanka</td>\n      <td>Dushmantha Chameera</td>\n      <td>4</td>\n      <td>0</td>\n      <td>39</td>\n      <td>1</td>\n      <td>9.75</td>\n      <td>6</td>\n      <td>3</td>\n      <td>1</td>\n      <td>2</td>\n      <td>0</td>\n      <td>T20I # 1823</td>\n    </tr>\n    <tr>\n      <th>2</th>\n      <td>Namibia Vs Sri Lanka</td>\n      <td>Sri Lanka</td>\n      <td>Pramod Madushan</td>\n      <td>4</td>\n      <td>0</td>\n      <td>37</td>\n      <td>2</td>\n      <td>9.25</td>\n      <td>6</td>\n      <td>3</td>\n      <td>1</td>\n      <td>0</td>\n      <td>0</td>\n      <td>T20I # 1823</td>\n    </tr>\n    <tr>\n      <th>3</th>\n      <td>Namibia Vs Sri Lanka</td>\n      <td>Sri Lanka</td>\n      <td>Chamika Karunaratne</td>\n      <td>4</td>\n      <td>0</td>\n      <td>36</td>\n      <td>1</td>\n      <td>9.00</td>\n      <td>7</td>\n      <td>3</td>\n      <td>1</td>\n      <td>1</td>\n      <td>0</td>\n      <td>T20I # 1823</td>\n    </tr>\n    <tr>\n      <th>4</th>\n      <td>Namibia Vs Sri Lanka</td>\n      <td>Sri Lanka</td>\n      <td>Wanindu Hasaranga de Silva</td>\n      <td>4</td>\n      <td>0</td>\n      <td>27</td>\n      <td>1</td>\n      <td>6.75</td>\n      <td>8</td>\n      <td>1</td>\n      <td>1</td>\n      <td>0</td>\n      <td>0</td>\n      <td>T20I # 1823</td>\n    </tr>\n  </tbody>\n</table>\n</div>"
     },
     "execution_count": 18,
     "metadata": {},
     "output_type": "execute_result"
    }
   ],
   "source": [
    "df_bowling['match_id'] = df_bowling['match'].map(match_ids_dict)\n",
    "df_bowling.head()"
   ]
  },
  {
   "cell_type": "code",
   "execution_count": 19,
   "id": "a2efb73e",
   "metadata": {
    "ExecuteTime": {
     "end_time": "2023-12-30T15:36:32.881410800Z",
     "start_time": "2023-12-30T15:36:32.851697500Z"
    }
   },
   "outputs": [],
   "source": [
    "df_bowling.to_csv('t20_csv_files/fact_bowling_summary.csv', index = False)"
   ]
  },
  {
   "cell_type": "markdown",
   "id": "44634ac7",
   "metadata": {},
   "source": [
    "<h4 style=\"color:red\">(4) Process Players Information</h4>"
   ]
  },
  {
   "cell_type": "code",
   "execution_count": 20,
   "id": "1fd8e6bd",
   "metadata": {
    "ExecuteTime": {
     "end_time": "2023-12-30T15:36:43.019129800Z",
     "start_time": "2023-12-30T15:36:42.998883100Z"
    }
   },
   "outputs": [],
   "source": [
    "with open('t20_json_files/t20_wc_player_info.json') as f:\n",
    "    data = json.load(f)"
   ]
  },
  {
   "cell_type": "code",
   "execution_count": 21,
   "id": "8c0cc07c",
   "metadata": {
    "scrolled": true,
    "ExecuteTime": {
     "end_time": "2023-12-30T15:36:43.752576900Z",
     "start_time": "2023-12-30T15:36:43.743405900Z"
    }
   },
   "outputs": [
    {
     "name": "stdout",
     "output_type": "stream",
     "text": [
      "(219, 6)\n"
     ]
    },
    {
     "data": {
      "text/plain": "                     name       team    battingStyle  \\\n0      Michael van Lingen    Namibia   Left hand Bat   \n1           Divan la Cock    Namibia  Right hand Bat   \n2  Jan Nicol Loftie-Eaton    Namibia   Left hand Bat   \n3           Stephan Baard    Namibia  Right hand Bat   \n4      Gerhard Erasmus(c)    Namibia  Right hand Bat   \n5            Jan Frylinck    Namibia   Left hand Bat   \n6             David Wiese    Namibia  Right hand Bat   \n7                 JJ Smit    Namibia  Right hand Bat   \n8         Pathum Nissanka  Sri Lanka  Right hand Bat   \n9         Kusal Mendisâ€   Sri Lanka  Right hand Bat   \n\n                 bowlingStyle          playingRole  \\\n0             Left arm Medium   Bowling Allrounder   \n1                    Legbreak       Opening Batter   \n2  Right arm Medium, Legbreak               Batter   \n3       Right arm Medium fast               Batter   \n4          Right arm Offbreak           Allrounder   \n5        Left arm Fast medium           Allrounder   \n6       Right arm Medium fast           Allrounder   \n7        Left arm Medium fast   Bowling Allrounder   \n8                                 Top order Batter   \n9                    Legbreak  Wicketkeeper Batter   \n\n                                         description  \n0                                                     \n1                                                     \n2                                                     \n3                                                     \n4                                                     \n5                                                     \n6  David Wiese joined a marked outflow of South A...  \n7                                                     \n8                                                     \n9  Blessed with a compact technique, an aggressiv...  ",
      "text/html": "<div>\n<style scoped>\n    .dataframe tbody tr th:only-of-type {\n        vertical-align: middle;\n    }\n\n    .dataframe tbody tr th {\n        vertical-align: top;\n    }\n\n    .dataframe thead th {\n        text-align: right;\n    }\n</style>\n<table border=\"1\" class=\"dataframe\">\n  <thead>\n    <tr style=\"text-align: right;\">\n      <th></th>\n      <th>name</th>\n      <th>team</th>\n      <th>battingStyle</th>\n      <th>bowlingStyle</th>\n      <th>playingRole</th>\n      <th>description</th>\n    </tr>\n  </thead>\n  <tbody>\n    <tr>\n      <th>0</th>\n      <td>Michael van Lingen</td>\n      <td>Namibia</td>\n      <td>Left hand Bat</td>\n      <td>Left arm Medium</td>\n      <td>Bowling Allrounder</td>\n      <td></td>\n    </tr>\n    <tr>\n      <th>1</th>\n      <td>Divan la Cock</td>\n      <td>Namibia</td>\n      <td>Right hand Bat</td>\n      <td>Legbreak</td>\n      <td>Opening Batter</td>\n      <td></td>\n    </tr>\n    <tr>\n      <th>2</th>\n      <td>Jan Nicol Loftie-Eaton</td>\n      <td>Namibia</td>\n      <td>Left hand Bat</td>\n      <td>Right arm Medium, Legbreak</td>\n      <td>Batter</td>\n      <td></td>\n    </tr>\n    <tr>\n      <th>3</th>\n      <td>Stephan Baard</td>\n      <td>Namibia</td>\n      <td>Right hand Bat</td>\n      <td>Right arm Medium fast</td>\n      <td>Batter</td>\n      <td></td>\n    </tr>\n    <tr>\n      <th>4</th>\n      <td>Gerhard Erasmus(c)</td>\n      <td>Namibia</td>\n      <td>Right hand Bat</td>\n      <td>Right arm Offbreak</td>\n      <td>Allrounder</td>\n      <td></td>\n    </tr>\n    <tr>\n      <th>5</th>\n      <td>Jan Frylinck</td>\n      <td>Namibia</td>\n      <td>Left hand Bat</td>\n      <td>Left arm Fast medium</td>\n      <td>Allrounder</td>\n      <td></td>\n    </tr>\n    <tr>\n      <th>6</th>\n      <td>David Wiese</td>\n      <td>Namibia</td>\n      <td>Right hand Bat</td>\n      <td>Right arm Medium fast</td>\n      <td>Allrounder</td>\n      <td>David Wiese joined a marked outflow of South A...</td>\n    </tr>\n    <tr>\n      <th>7</th>\n      <td>JJ Smit</td>\n      <td>Namibia</td>\n      <td>Right hand Bat</td>\n      <td>Left arm Medium fast</td>\n      <td>Bowling Allrounder</td>\n      <td></td>\n    </tr>\n    <tr>\n      <th>8</th>\n      <td>Pathum Nissanka</td>\n      <td>Sri Lanka</td>\n      <td>Right hand Bat</td>\n      <td></td>\n      <td>Top order Batter</td>\n      <td></td>\n    </tr>\n    <tr>\n      <th>9</th>\n      <td>Kusal Mendisâ€</td>\n      <td>Sri Lanka</td>\n      <td>Right hand Bat</td>\n      <td>Legbreak</td>\n      <td>Wicketkeeper Batter</td>\n      <td>Blessed with a compact technique, an aggressiv...</td>\n    </tr>\n  </tbody>\n</table>\n</div>"
     },
     "execution_count": 21,
     "metadata": {},
     "output_type": "execute_result"
    }
   ],
   "source": [
    "df_players = pd.DataFrame(data)\n",
    "\n",
    "print(df_players.shape)\n",
    "df_players.head(10)"
   ]
  },
  {
   "cell_type": "markdown",
   "id": "f53b0700",
   "metadata": {},
   "source": [
    "**Cleanup weird characters**"
   ]
  },
  {
   "cell_type": "code",
   "execution_count": 22,
   "id": "3b9b11eb",
   "metadata": {
    "ExecuteTime": {
     "end_time": "2023-12-30T15:36:48.631431100Z",
     "start_time": "2023-12-30T15:36:48.619418400Z"
    }
   },
   "outputs": [
    {
     "data": {
      "text/plain": "                     name       team    battingStyle  \\\n0      Michael van Lingen    Namibia   Left hand Bat   \n1           Divan la Cock    Namibia  Right hand Bat   \n2  Jan Nicol Loftie-Eaton    Namibia   Left hand Bat   \n3           Stephan Baard    Namibia  Right hand Bat   \n4      Gerhard Erasmus(c)    Namibia  Right hand Bat   \n5            Jan Frylinck    Namibia   Left hand Bat   \n6             David Wiese    Namibia  Right hand Bat   \n7                 JJ Smit    Namibia  Right hand Bat   \n8         Pathum Nissanka  Sri Lanka  Right hand Bat   \n9            Kusal Mendis  Sri Lanka  Right hand Bat   \n\n                 bowlingStyle          playingRole  \\\n0             Left arm Medium   Bowling Allrounder   \n1                    Legbreak       Opening Batter   \n2  Right arm Medium, Legbreak               Batter   \n3       Right arm Medium fast               Batter   \n4          Right arm Offbreak           Allrounder   \n5        Left arm Fast medium           Allrounder   \n6       Right arm Medium fast           Allrounder   \n7        Left arm Medium fast   Bowling Allrounder   \n8                                 Top order Batter   \n9                    Legbreak  Wicketkeeper Batter   \n\n                                         description  \n0                                                     \n1                                                     \n2                                                     \n3                                                     \n4                                                     \n5                                                     \n6  David Wiese joined a marked outflow of South A...  \n7                                                     \n8                                                     \n9  Blessed with a compact technique, an aggressiv...  ",
      "text/html": "<div>\n<style scoped>\n    .dataframe tbody tr th:only-of-type {\n        vertical-align: middle;\n    }\n\n    .dataframe tbody tr th {\n        vertical-align: top;\n    }\n\n    .dataframe thead th {\n        text-align: right;\n    }\n</style>\n<table border=\"1\" class=\"dataframe\">\n  <thead>\n    <tr style=\"text-align: right;\">\n      <th></th>\n      <th>name</th>\n      <th>team</th>\n      <th>battingStyle</th>\n      <th>bowlingStyle</th>\n      <th>playingRole</th>\n      <th>description</th>\n    </tr>\n  </thead>\n  <tbody>\n    <tr>\n      <th>0</th>\n      <td>Michael van Lingen</td>\n      <td>Namibia</td>\n      <td>Left hand Bat</td>\n      <td>Left arm Medium</td>\n      <td>Bowling Allrounder</td>\n      <td></td>\n    </tr>\n    <tr>\n      <th>1</th>\n      <td>Divan la Cock</td>\n      <td>Namibia</td>\n      <td>Right hand Bat</td>\n      <td>Legbreak</td>\n      <td>Opening Batter</td>\n      <td></td>\n    </tr>\n    <tr>\n      <th>2</th>\n      <td>Jan Nicol Loftie-Eaton</td>\n      <td>Namibia</td>\n      <td>Left hand Bat</td>\n      <td>Right arm Medium, Legbreak</td>\n      <td>Batter</td>\n      <td></td>\n    </tr>\n    <tr>\n      <th>3</th>\n      <td>Stephan Baard</td>\n      <td>Namibia</td>\n      <td>Right hand Bat</td>\n      <td>Right arm Medium fast</td>\n      <td>Batter</td>\n      <td></td>\n    </tr>\n    <tr>\n      <th>4</th>\n      <td>Gerhard Erasmus(c)</td>\n      <td>Namibia</td>\n      <td>Right hand Bat</td>\n      <td>Right arm Offbreak</td>\n      <td>Allrounder</td>\n      <td></td>\n    </tr>\n    <tr>\n      <th>5</th>\n      <td>Jan Frylinck</td>\n      <td>Namibia</td>\n      <td>Left hand Bat</td>\n      <td>Left arm Fast medium</td>\n      <td>Allrounder</td>\n      <td></td>\n    </tr>\n    <tr>\n      <th>6</th>\n      <td>David Wiese</td>\n      <td>Namibia</td>\n      <td>Right hand Bat</td>\n      <td>Right arm Medium fast</td>\n      <td>Allrounder</td>\n      <td>David Wiese joined a marked outflow of South A...</td>\n    </tr>\n    <tr>\n      <th>7</th>\n      <td>JJ Smit</td>\n      <td>Namibia</td>\n      <td>Right hand Bat</td>\n      <td>Left arm Medium fast</td>\n      <td>Bowling Allrounder</td>\n      <td></td>\n    </tr>\n    <tr>\n      <th>8</th>\n      <td>Pathum Nissanka</td>\n      <td>Sri Lanka</td>\n      <td>Right hand Bat</td>\n      <td></td>\n      <td>Top order Batter</td>\n      <td></td>\n    </tr>\n    <tr>\n      <th>9</th>\n      <td>Kusal Mendis</td>\n      <td>Sri Lanka</td>\n      <td>Right hand Bat</td>\n      <td>Legbreak</td>\n      <td>Wicketkeeper Batter</td>\n      <td>Blessed with a compact technique, an aggressiv...</td>\n    </tr>\n  </tbody>\n</table>\n</div>"
     },
     "execution_count": 22,
     "metadata": {},
     "output_type": "execute_result"
    }
   ],
   "source": [
    "df_players['name'] = df_players['name'].apply(lambda x: x.replace('â€', ''))\n",
    "df_players['name'] = df_players['name'].apply(lambda x: x.replace('†', ''))\n",
    "df_players['name'] = df_players['name'].apply(lambda x: x.replace('\\xa0', ''))\n",
    "df_players.head(10)"
   ]
  },
  {
   "cell_type": "code",
   "execution_count": 23,
   "id": "6be96f94",
   "metadata": {
    "ExecuteTime": {
     "end_time": "2023-12-30T15:36:49.297601200Z",
     "start_time": "2023-12-30T15:36:49.272739600Z"
    }
   },
   "outputs": [
    {
     "data": {
      "text/plain": "                    name   team    battingStyle  \\\n127             KL Rahul  India  Right hand Bat   \n128      Rohit Sharma(c)  India  Right hand Bat   \n129          Virat Kohli  India  Right hand Bat   \n130     Suryakumar Yadav  India  Right hand Bat   \n131           Axar Patel  India   Left hand Bat   \n132        Hardik Pandya  India  Right hand Bat   \n133       Dinesh Karthik  India  Right hand Bat   \n134  Ravichandran Ashwin  India  Right hand Bat   \n135    Bhuvneshwar Kumar  India  Right hand Bat   \n136       Arshdeep Singh  India   Left hand Bat   \n137       Mohammed Shami  India  Right hand Bat   \n192         Deepak Hooda  India  Right hand Bat   \n211         Rishabh Pant  India   Left hand Bat   \n\n                             bowlingStyle          playingRole  \\\n127                                             Opening Batter   \n128                    Right arm Offbreak     Top order Batter   \n129                      Right arm Medium     Top order Batter   \n130  Right arm Medium, Right arm Offbreak               Batter   \n131                Slow Left arm Orthodox   Bowling Allrounder   \n132                 Right arm Medium fast           Allrounder   \n133                    Right arm Offbreak  Wicketkeeper Batter   \n134                    Right arm Offbreak   Bowling Allrounder   \n135                      Right arm Medium               Bowler   \n136                  Left arm Medium fast               Bowler   \n137                        Right arm Fast               Bowler   \n192                    Right arm Offbreak           Allrounder   \n211                                        Wicketkeeper Batter   \n\n                                           description  \n127  A tall, elegant right-hand batsman who can kee...  \n128  Languid and easy on the eye, Rohit Sharma owne...  \n129  India has given to the world many a great cric...  \n130  Hard-hitting 360-degree batter Suryakumar Yada...  \n131  Left-arm spinner Axar Patel has been increasin...  \n132  Hardik Pandya swears by living life king size ...  \n133  Not many would forget the sight of Dinesh Kart...  \n134  R Ashwin took the tricks and skills he learned...  \n135  At the time of his India debut in 2012, Bhuvne...  \n136                                                     \n137  Mohammed Shami was India's leading fast bowler...  \n192  An allrounder who can bat in any position, Dee...  \n211  A match-turning, swashbuckling batter-keeper i...  ",
      "text/html": "<div>\n<style scoped>\n    .dataframe tbody tr th:only-of-type {\n        vertical-align: middle;\n    }\n\n    .dataframe tbody tr th {\n        vertical-align: top;\n    }\n\n    .dataframe thead th {\n        text-align: right;\n    }\n</style>\n<table border=\"1\" class=\"dataframe\">\n  <thead>\n    <tr style=\"text-align: right;\">\n      <th></th>\n      <th>name</th>\n      <th>team</th>\n      <th>battingStyle</th>\n      <th>bowlingStyle</th>\n      <th>playingRole</th>\n      <th>description</th>\n    </tr>\n  </thead>\n  <tbody>\n    <tr>\n      <th>127</th>\n      <td>KL Rahul</td>\n      <td>India</td>\n      <td>Right hand Bat</td>\n      <td></td>\n      <td>Opening Batter</td>\n      <td>A tall, elegant right-hand batsman who can kee...</td>\n    </tr>\n    <tr>\n      <th>128</th>\n      <td>Rohit Sharma(c)</td>\n      <td>India</td>\n      <td>Right hand Bat</td>\n      <td>Right arm Offbreak</td>\n      <td>Top order Batter</td>\n      <td>Languid and easy on the eye, Rohit Sharma owne...</td>\n    </tr>\n    <tr>\n      <th>129</th>\n      <td>Virat Kohli</td>\n      <td>India</td>\n      <td>Right hand Bat</td>\n      <td>Right arm Medium</td>\n      <td>Top order Batter</td>\n      <td>India has given to the world many a great cric...</td>\n    </tr>\n    <tr>\n      <th>130</th>\n      <td>Suryakumar Yadav</td>\n      <td>India</td>\n      <td>Right hand Bat</td>\n      <td>Right arm Medium, Right arm Offbreak</td>\n      <td>Batter</td>\n      <td>Hard-hitting 360-degree batter Suryakumar Yada...</td>\n    </tr>\n    <tr>\n      <th>131</th>\n      <td>Axar Patel</td>\n      <td>India</td>\n      <td>Left hand Bat</td>\n      <td>Slow Left arm Orthodox</td>\n      <td>Bowling Allrounder</td>\n      <td>Left-arm spinner Axar Patel has been increasin...</td>\n    </tr>\n    <tr>\n      <th>132</th>\n      <td>Hardik Pandya</td>\n      <td>India</td>\n      <td>Right hand Bat</td>\n      <td>Right arm Medium fast</td>\n      <td>Allrounder</td>\n      <td>Hardik Pandya swears by living life king size ...</td>\n    </tr>\n    <tr>\n      <th>133</th>\n      <td>Dinesh Karthik</td>\n      <td>India</td>\n      <td>Right hand Bat</td>\n      <td>Right arm Offbreak</td>\n      <td>Wicketkeeper Batter</td>\n      <td>Not many would forget the sight of Dinesh Kart...</td>\n    </tr>\n    <tr>\n      <th>134</th>\n      <td>Ravichandran Ashwin</td>\n      <td>India</td>\n      <td>Right hand Bat</td>\n      <td>Right arm Offbreak</td>\n      <td>Bowling Allrounder</td>\n      <td>R Ashwin took the tricks and skills he learned...</td>\n    </tr>\n    <tr>\n      <th>135</th>\n      <td>Bhuvneshwar Kumar</td>\n      <td>India</td>\n      <td>Right hand Bat</td>\n      <td>Right arm Medium</td>\n      <td>Bowler</td>\n      <td>At the time of his India debut in 2012, Bhuvne...</td>\n    </tr>\n    <tr>\n      <th>136</th>\n      <td>Arshdeep Singh</td>\n      <td>India</td>\n      <td>Left hand Bat</td>\n      <td>Left arm Medium fast</td>\n      <td>Bowler</td>\n      <td></td>\n    </tr>\n    <tr>\n      <th>137</th>\n      <td>Mohammed Shami</td>\n      <td>India</td>\n      <td>Right hand Bat</td>\n      <td>Right arm Fast</td>\n      <td>Bowler</td>\n      <td>Mohammed Shami was India's leading fast bowler...</td>\n    </tr>\n    <tr>\n      <th>192</th>\n      <td>Deepak Hooda</td>\n      <td>India</td>\n      <td>Right hand Bat</td>\n      <td>Right arm Offbreak</td>\n      <td>Allrounder</td>\n      <td>An allrounder who can bat in any position, Dee...</td>\n    </tr>\n    <tr>\n      <th>211</th>\n      <td>Rishabh Pant</td>\n      <td>India</td>\n      <td>Left hand Bat</td>\n      <td></td>\n      <td>Wicketkeeper Batter</td>\n      <td>A match-turning, swashbuckling batter-keeper i...</td>\n    </tr>\n  </tbody>\n</table>\n</div>"
     },
     "execution_count": 23,
     "metadata": {},
     "output_type": "execute_result"
    }
   ],
   "source": [
    "df_players[df_players['team'] == 'India']"
   ]
  },
  {
   "cell_type": "code",
   "execution_count": 24,
   "id": "b59548bf",
   "metadata": {
    "ExecuteTime": {
     "end_time": "2023-12-30T15:36:51.750564100Z",
     "start_time": "2023-12-30T15:36:51.699052600Z"
    }
   },
   "outputs": [],
   "source": [
    "df_players.to_csv('t20_csv_files/dim_players_no_images.csv', index = False)"
   ]
  }
 ],
 "metadata": {
  "kernelspec": {
   "display_name": "Python 3",
   "language": "python",
   "name": "python3"
  },
  "language_info": {
   "codemirror_mode": {
    "name": "ipython",
    "version": 3
   },
   "file_extension": ".py",
   "mimetype": "text/x-python",
   "name": "python",
   "nbconvert_exporter": "python",
   "pygments_lexer": "ipython3",
   "version": "3.8.10"
  }
 },
 "nbformat": 4,
 "nbformat_minor": 5
}
